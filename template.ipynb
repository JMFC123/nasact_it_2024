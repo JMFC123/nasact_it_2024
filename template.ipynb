{
 "cells": [
  {
   "cell_type": "markdown",
   "metadata": {},
   "source": [
    "# 2024 NASACT Training xlwings demo\n",
    "By: Ohio Auditor of State (Jesse Carroll/Joel Thompson)"
   ]
  },
  {
   "cell_type": "markdown",
   "metadata": {},
   "source": [
    "## Import Python Libraries"
   ]
  },
  {
   "cell_type": "code",
   "execution_count": 1,
   "metadata": {},
   "outputs": [],
   "source": [
    "import pandas as pd  #what does 'as' do?\n",
    "import xlwings as xw  #what is xlwings?\n",
    "from pathlib import Path\n",
    "from shutil import copyfile"
   ]
  },
  {
   "cell_type": "markdown",
   "metadata": {},
   "source": [
    "## Import the data we want to enter into our template"
   ]
  },
  {
   "cell_type": "code",
   "execution_count": 3,
   "metadata": {},
   "outputs": [
    {
     "name": "stdout",
     "output_type": "stream",
     "text": [
      "first date is 2022-07-01 00:00:00\n",
      "last date is 2023-06-30 00:00:00\n"
     ]
    }
   ],
   "source": [
    "# store path in a variable called current file\n",
    "current_file = r\"random_GL_Reports_2023.xlsx\"\n",
    "\n",
    "# import the GL_Transactions tab from the workbook\n",
    "df = pd.read_excel(current_file , sheet_name='GL_Transactions')\n"
   ]
  },
  {
   "cell_type": "code",
   "execution_count": null,
   "metadata": {},
   "outputs": [],
   "source": [
    "\n",
    "#store the current date in a variable called \"today\"\n",
    "today = pd.to_datetime('today')\n",
    "\n",
    "#sort Tran_Date in ascending order\n",
    "df = df.sort_values(by='TranDate', ascending=True)\n",
    "\n",
    "# store the first TranDate in a variable called \"first_date\"\n",
    "first_date = df['TranDate'].iloc[0]\n",
    "\n",
    "#print \"first date is\" and the value of first_date\n",
    "print(f'first date is {first_date}')\n",
    "\n",
    "#store the last TranDate in a variable called \"last_date\"\n",
    "last_date = df['TranDate'].iloc[-1]\n",
    "\n",
    "#print \"last date is\" and the value of last_date\n",
    "print(f'last date is {last_date}')\n",
    "\n",
    "#total the ExpAmt columns and store in total_exp\n",
    "total_exp = df['ExpAmt'].sum()\n",
    "\n",
    "#total the RevAmt columns and store in total_rev\n",
    "total_rev = df['RevAmt'].sum()\n"
   ]
  },
  {
   "cell_type": "markdown",
   "metadata": {},
   "source": [
    "entering the variables into the excel template"
   ]
  },
  {
   "cell_type": "code",
   "execution_count": 4,
   "metadata": {},
   "outputs": [],
   "source": [
    "destination = rf'D:\\Data\\DITA\\Training\\Results\\results.xlsx'\n",
    "current_template = rf'D:\\Data\\DITA\\Training\\template.xlsx'\n",
    "\n",
    "#copy the current_template to the destination\n",
    "copyfile(current_template, destination)\n",
    "\n",
    "with xw.App(visible=False) as xl:\n",
    "        \n",
    "        wb = xw.Book(destination)\n",
    "        xl = xw.apps.active.api\n",
    "\n",
    "        #wb.sheets.add('RecordedData')\n",
    "        template_tab = wb.sheets('tab1')\n",
    "        wb.sheets['tab1'].api.Visible = True\n",
    "        #tameplate_tab cell B3 = current_file\n",
    "        template_tab.range('B3').value = current_file\n",
    "        #template_tab cell B5 = today\n",
    "        template_tab.range('B5').value = today\n",
    "        #set cell B5 to date format\n",
    "        template_tab.range('B5').number_format = \"mm/dd/yyyy\"\n",
    "        #template_tab cell B7 = first_date\n",
    "        template_tab.range('B7').value = first_date\n",
    "        #set cell B7 to date format\n",
    "        template_tab.range('B7').number_format = \"mm/dd/yyyy\"\n",
    "        #template_tab cell B9 = last_date\n",
    "        template_tab.range('B9').value = last_date\n",
    "        #set cell B9 to date format\n",
    "        template_tab.range('B9').number_format = \"mm/dd/yyyy\"\n",
    "        #template_tab cell B11 = total_exp\n",
    "        template_tab.range('B11').value = total_exp\n",
    "        #set sell B11 to currency format with 2 decimals\n",
    "        template_tab.range('B11').number_format = \"$#,##0.00\"\n",
    "        #template_tab cell B13 = total_rev\n",
    "        template_tab.range('B13').value = total_rev\n",
    "        #set cell B13 to currency format\n",
    "        template_tab.range('B13').number_format = \"$#,##0.00\"\n",
    "\n",
    "        gl_trans_tab = wb.sheets('GL_Transactions')\n",
    "        #paste df into cell A1 in gl_trans_tab\n",
    "        gl_trans_tab.range('A1').options(index=False).value = df\n",
    "\n",
    "        #MORE FORMATTING FUN - remove the comments to see the magic\n",
    "\n",
    "        #in the template_tab, autofit columns B and H and K\n",
    "        template_tab.range('B:B').autofit()\n",
    "        template_tab.range('H:H').autofit()\n",
    "        template_tab.range('K:K').autofit()\n",
    "\n",
    "        gl_trans_tab.used_range.api.AutoFilter(Field:=1)\n",
    "\n",
    "        #bold the text in the first row\n",
    "        gl_trans_tab.range('1:1').api.Font.Bold = True\n",
    "\n",
    "        #autofit the columns in gl_trans_tab\n",
    "        gl_trans_tab.range('A:AD').autofit()\n",
    "\n",
    "        wb.save(destination)\n",
    "        wb.close()"
   ]
  }
 ],
 "metadata": {
  "kernelspec": {
   "display_name": "Python 3",
   "language": "python",
   "name": "python3"
  },
  "language_info": {
   "codemirror_mode": {
    "name": "ipython",
    "version": 3
   },
   "file_extension": ".py",
   "mimetype": "text/x-python",
   "name": "python",
   "nbconvert_exporter": "python",
   "pygments_lexer": "ipython3",
   "version": "3.10.13"
  }
 },
 "nbformat": 4,
 "nbformat_minor": 2
}
