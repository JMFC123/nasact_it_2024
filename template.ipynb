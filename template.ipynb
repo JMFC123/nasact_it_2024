{
 "cells": [
  {
   "cell_type": "markdown",
   "metadata": {},
   "source": [
    "# 2024 NASACT Training xlwings demo\n",
    "By: Ohio Auditor of State (Jesse Carroll/Joel Thompson)"
   ]
  },
  {
   "cell_type": "markdown",
   "metadata": {},
   "source": [
    "## Import Python Libraries"
   ]
  },
  {
   "cell_type": "code",
   "execution_count": 1,
   "metadata": {},
   "outputs": [],
   "source": [
    "import pandas as pd  #what does 'as' do?\n",
    "import xlwings as xw  #what is xlwings?\n",
    "from pathlib import Path\n",
    "from shutil import copyfile"
   ]
  },
  {
   "cell_type": "markdown",
   "metadata": {},
   "source": [
    "## Import the data we want to enter into our template"
   ]
  },
  {
   "cell_type": "code",
   "execution_count": 3,
   "metadata": {},
   "outputs": [
    {
     "data": {
      "text/html": [
       "<div>\n",
       "<style scoped>\n",
       "    .dataframe tbody tr th:only-of-type {\n",
       "        vertical-align: middle;\n",
       "    }\n",
       "\n",
       "    .dataframe tbody tr th {\n",
       "        vertical-align: top;\n",
       "    }\n",
       "\n",
       "    .dataframe thead th {\n",
       "        text-align: right;\n",
       "    }\n",
       "</style>\n",
       "<table border=\"1\" class=\"dataframe\">\n",
       "  <thead>\n",
       "    <tr style=\"text-align: right;\">\n",
       "      <th></th>\n",
       "      <th>Fund</th>\n",
       "      <th>FundName</th>\n",
       "      <th>Func</th>\n",
       "      <th>FuncClassName</th>\n",
       "      <th>FuncTypeName</th>\n",
       "      <th>FuncName</th>\n",
       "      <th>Obj</th>\n",
       "      <th>ObjClassName</th>\n",
       "      <th>ObjTypeName</th>\n",
       "      <th>ObjName</th>\n",
       "      <th>...</th>\n",
       "      <th>ExpRevFlag</th>\n",
       "      <th>VoidFlag</th>\n",
       "      <th>PayrollFlag</th>\n",
       "      <th>TitleVIbFlag</th>\n",
       "      <th>AdvTrfFlag</th>\n",
       "      <th>RevAmt</th>\n",
       "      <th>ExpAmt</th>\n",
       "      <th>Unnamed: 30</th>\n",
       "      <th>Unnamed: 31</th>\n",
       "      <th>Link to Table of Contents</th>\n",
       "    </tr>\n",
       "  </thead>\n",
       "  <tbody>\n",
       "    <tr>\n",
       "      <th>0</th>\n",
       "      <td>1</td>\n",
       "      <td>General</td>\n",
       "      <td>1100</td>\n",
       "      <td>Instruction</td>\n",
       "      <td>Regular Instruction</td>\n",
       "      <td>Regular Instruction</td>\n",
       "      <td>411</td>\n",
       "      <td>Purchased Services</td>\n",
       "      <td>Professional/Technical Services</td>\n",
       "      <td>Instruction Services</td>\n",
       "      <td>...</td>\n",
       "      <td>E</td>\n",
       "      <td>NaN</td>\n",
       "      <td>NaN</td>\n",
       "      <td>NaN</td>\n",
       "      <td>NaN</td>\n",
       "      <td>0.0</td>\n",
       "      <td>188.46</td>\n",
       "      <td>NaN</td>\n",
       "      <td>NaN</td>\n",
       "      <td>NaN</td>\n",
       "    </tr>\n",
       "    <tr>\n",
       "      <th>1</th>\n",
       "      <td>1</td>\n",
       "      <td>General</td>\n",
       "      <td>1100</td>\n",
       "      <td>Instruction</td>\n",
       "      <td>Regular Instruction</td>\n",
       "      <td>Regular Instruction</td>\n",
       "      <td>411</td>\n",
       "      <td>Purchased Services</td>\n",
       "      <td>Professional/Technical Services</td>\n",
       "      <td>Instruction Services</td>\n",
       "      <td>...</td>\n",
       "      <td>E</td>\n",
       "      <td>NaN</td>\n",
       "      <td>NaN</td>\n",
       "      <td>NaN</td>\n",
       "      <td>NaN</td>\n",
       "      <td>0.0</td>\n",
       "      <td>241.02</td>\n",
       "      <td>NaN</td>\n",
       "      <td>NaN</td>\n",
       "      <td>NaN</td>\n",
       "    </tr>\n",
       "    <tr>\n",
       "      <th>2</th>\n",
       "      <td>1</td>\n",
       "      <td>General</td>\n",
       "      <td>1100</td>\n",
       "      <td>Instruction</td>\n",
       "      <td>Regular Instruction</td>\n",
       "      <td>Regular Instruction</td>\n",
       "      <td>411</td>\n",
       "      <td>Purchased Services</td>\n",
       "      <td>Professional/Technical Services</td>\n",
       "      <td>Instruction Services</td>\n",
       "      <td>...</td>\n",
       "      <td>E</td>\n",
       "      <td>NaN</td>\n",
       "      <td>NaN</td>\n",
       "      <td>NaN</td>\n",
       "      <td>NaN</td>\n",
       "      <td>0.0</td>\n",
       "      <td>194.93</td>\n",
       "      <td>NaN</td>\n",
       "      <td>NaN</td>\n",
       "      <td>NaN</td>\n",
       "    </tr>\n",
       "    <tr>\n",
       "      <th>3</th>\n",
       "      <td>1</td>\n",
       "      <td>General</td>\n",
       "      <td>1100</td>\n",
       "      <td>Instruction</td>\n",
       "      <td>Regular Instruction</td>\n",
       "      <td>Regular Instruction</td>\n",
       "      <td>411</td>\n",
       "      <td>Purchased Services</td>\n",
       "      <td>Professional/Technical Services</td>\n",
       "      <td>Instruction Services</td>\n",
       "      <td>...</td>\n",
       "      <td>E</td>\n",
       "      <td>NaN</td>\n",
       "      <td>NaN</td>\n",
       "      <td>NaN</td>\n",
       "      <td>NaN</td>\n",
       "      <td>0.0</td>\n",
       "      <td>462.79</td>\n",
       "      <td>NaN</td>\n",
       "      <td>NaN</td>\n",
       "      <td>NaN</td>\n",
       "    </tr>\n",
       "    <tr>\n",
       "      <th>4</th>\n",
       "      <td>1</td>\n",
       "      <td>General</td>\n",
       "      <td>1100</td>\n",
       "      <td>Instruction</td>\n",
       "      <td>Regular Instruction</td>\n",
       "      <td>Regular Instruction</td>\n",
       "      <td>411</td>\n",
       "      <td>Purchased Services</td>\n",
       "      <td>Professional/Technical Services</td>\n",
       "      <td>Instruction Services</td>\n",
       "      <td>...</td>\n",
       "      <td>E</td>\n",
       "      <td>NaN</td>\n",
       "      <td>NaN</td>\n",
       "      <td>NaN</td>\n",
       "      <td>NaN</td>\n",
       "      <td>0.0</td>\n",
       "      <td>507.97</td>\n",
       "      <td>NaN</td>\n",
       "      <td>NaN</td>\n",
       "      <td>NaN</td>\n",
       "    </tr>\n",
       "  </tbody>\n",
       "</table>\n",
       "<p>5 rows × 33 columns</p>\n",
       "</div>"
      ],
      "text/plain": [
       "   Fund FundName  Func FuncClassName         FuncTypeName  \\\n",
       "0     1  General  1100   Instruction  Regular Instruction   \n",
       "1     1  General  1100   Instruction  Regular Instruction   \n",
       "2     1  General  1100   Instruction  Regular Instruction   \n",
       "3     1  General  1100   Instruction  Regular Instruction   \n",
       "4     1  General  1100   Instruction  Regular Instruction   \n",
       "\n",
       "              FuncName  Obj        ObjClassName  \\\n",
       "0  Regular Instruction  411  Purchased Services   \n",
       "1  Regular Instruction  411  Purchased Services   \n",
       "2  Regular Instruction  411  Purchased Services   \n",
       "3  Regular Instruction  411  Purchased Services   \n",
       "4  Regular Instruction  411  Purchased Services   \n",
       "\n",
       "                       ObjTypeName               ObjName  ...  ExpRevFlag  \\\n",
       "0  Professional/Technical Services  Instruction Services  ...           E   \n",
       "1  Professional/Technical Services  Instruction Services  ...           E   \n",
       "2  Professional/Technical Services  Instruction Services  ...           E   \n",
       "3  Professional/Technical Services  Instruction Services  ...           E   \n",
       "4  Professional/Technical Services  Instruction Services  ...           E   \n",
       "\n",
       "   VoidFlag  PayrollFlag  TitleVIbFlag  AdvTrfFlag RevAmt  ExpAmt Unnamed: 30  \\\n",
       "0       NaN          NaN           NaN         NaN    0.0  188.46         NaN   \n",
       "1       NaN          NaN           NaN         NaN    0.0  241.02         NaN   \n",
       "2       NaN          NaN           NaN         NaN    0.0  194.93         NaN   \n",
       "3       NaN          NaN           NaN         NaN    0.0  462.79         NaN   \n",
       "4       NaN          NaN           NaN         NaN    0.0  507.97         NaN   \n",
       "\n",
       "   Unnamed: 31  Link to Table of Contents  \n",
       "0          NaN                        NaN  \n",
       "1          NaN                        NaN  \n",
       "2          NaN                        NaN  \n",
       "3          NaN                        NaN  \n",
       "4          NaN                        NaN  \n",
       "\n",
       "[5 rows x 33 columns]"
      ]
     },
     "execution_count": 3,
     "metadata": {},
     "output_type": "execute_result"
    }
   ],
   "source": [
    "# store path in a variable called current file\n",
    "current_file = r\"random_GL_Reports_2023.xlsx\"\n",
    "\n",
    "# import the GL_Transactions tab from the workbook\n",
    "df = pd.read_excel(current_file , sheet_name='GL_Transactions')\n",
    "\n",
    "# show first 5 rows of the dataframe\n",
    "df.head()"
   ]
  },
  {
   "cell_type": "markdown",
   "metadata": {},
   "source": [
    "### replace fiels with fake data for demo"
   ]
  },
  {
   "cell_type": "code",
   "execution_count": 6,
   "metadata": {},
   "outputs": [
    {
     "data": {
      "text/plain": [
       "0         Emily Gonzalez\n",
       "1         Melissa Martin\n",
       "2         Olivia Barrett\n",
       "3        Samantha Gibson\n",
       "4    Christopher Ramirez\n",
       "Name: VendorName, dtype: object"
      ]
     },
     "execution_count": 6,
     "metadata": {},
     "output_type": "execute_result"
    }
   ],
   "source": [
    "from faker import Faker\n",
    "import numpy as np\n",
    "# Initialize the Faker library\n",
    "fake = Faker()\n",
    "df['VendorName'] = df['VendorName'].apply(lambda x: fake.name() if pd.notnull(x) else np.nan)\n",
    "df['VendorName'].head()"
   ]
  },
  {
   "cell_type": "code",
   "execution_count": 10,
   "metadata": {},
   "outputs": [
    {
     "data": {
      "text/plain": [
       "'Math chalkboard quiz grade math desk.'"
      ]
     },
     "execution_count": 10,
     "metadata": {},
     "output_type": "execute_result"
    }
   ],
   "source": [
    "school_word_list = [\n",
    "    'student', 'teacher', 'homework', \n",
    "    'classroom', 'textbook', 'study', \n",
    "    'grade', 'exam', 'subject', \n",
    "    'math', 'science', 'history', \n",
    "    'english', 'physical education', 'art', \n",
    "    'music', 'principal', 'report card', \n",
    "    'assignment', 'project', 'quiz', \n",
    "    'field trip', 'lunch', 'recess', \n",
    "    'library', 'desk', 'chalkboard'\n",
    "]\n",
    "fake.sentence(ext_word_list=school_word_list)"
   ]
  },
  {
   "cell_type": "code",
   "execution_count": 13,
   "metadata": {},
   "outputs": [
    {
     "data": {
      "text/plain": [
       "8416         Study science homework library history study.\n",
       "10965                           Exam project exam student.\n",
       "13913    Classroom report card homework classroom chalk...\n",
       "9208        Classroom history quiz recess student history.\n",
       "19654               Desk recess study principal principal.\n",
       "17589    Grade math english math assignment textbook li...\n",
       "21181    English recess exam field trip library princip...\n",
       "2831                 Exam report card quiz music homework.\n",
       "21837    Assignment lunch field trip physical education...\n",
       "22668            Recess math assignment science classroom.\n",
       "Name: Description, dtype: object"
      ]
     },
     "execution_count": 13,
     "metadata": {},
     "output_type": "execute_result"
    }
   ],
   "source": [
    "df['Description'].sample(10)"
   ]
  },
  {
   "cell_type": "code",
   "execution_count": 12,
   "metadata": {},
   "outputs": [],
   "source": [
    "df['Description'] = df['Description'].apply(lambda x: fake.sentence(ext_word_list=school_word_list) if pd.notnull(x) else np.nan)"
   ]
  },
  {
   "cell_type": "code",
   "execution_count": 14,
   "metadata": {},
   "outputs": [],
   "source": [
    "df.to_excel('random_GL_Reports_2023.xlsx', sheet_name='GL_Transactions', index=False)"
   ]
  },
  {
   "cell_type": "markdown",
   "metadata": {},
   "source": [
    "### create some variables"
   ]
  },
  {
   "cell_type": "code",
   "execution_count": 20,
   "metadata": {},
   "outputs": [
    {
     "name": "stdout",
     "output_type": "stream",
     "text": [
      "first date is 2022-07-01 00:00:00\n",
      "last date is 2023-06-30 00:00:00\n",
      "--------------------------------------------------\n",
      "total expenses: $48,319,305.13\n",
      "total revenue: $50,475,811.17\n"
     ]
    }
   ],
   "source": [
    "#store the current date in a variable called \"today\"\n",
    "today = pd.to_datetime('today')\n",
    "\n",
    "#sort Tran_Date in ascending order\n",
    "df = df.sort_values(by='TranDate', ascending=True)\n",
    "\n",
    "# store the first TranDate in a variable called \"first_date\"\n",
    "first_date = df['TranDate'].iloc[0]\n",
    "\n",
    "#print \"first date is\" and the value of first_date\n",
    "print(f'first date is {first_date}')\n",
    "\n",
    "#store the last TranDate in a variable called \"last_date\"\n",
    "last_date = df['TranDate'].iloc[-1]\n",
    "\n",
    "#print \"last date is\" and the value of last_date\n",
    "print(f'last date is {last_date}')\n",
    "print(\"-\"*50)\n",
    "#total the ExpAmt columns and store in total_exp\n",
    "total_exp = df['ExpAmt'].sum()\n",
    "print(f'total expenses: ${total_exp:,.2f}')\n",
    "\n",
    "#total the RevAmt columns and store in total_rev\n",
    "total_rev = df['RevAmt'].sum()\n",
    "print(f'total revenue: ${total_rev:,.2f}')\n"
   ]
  },
  {
   "cell_type": "markdown",
   "metadata": {},
   "source": [
    "### entering the variables into the excel template"
   ]
  },
  {
   "cell_type": "code",
   "execution_count": 24,
   "metadata": {},
   "outputs": [],
   "source": [
    "destination = rf'Results\\results.xlsx'\n",
    "current_template = rf'template.xlsx'\n",
    "\n",
    "#copy the current_template to the destination\n",
    "copyfile(current_template, destination)\n",
    "\n",
    "with xw.App(visible=False) as xl:\n",
    "    wb = xw.Book(destination)\n",
    "    xl = xw.apps.active.api\n",
    "\n",
    "    # add some of our variables from abvoe to tab1 in the workbook\n",
    "    template_tab = wb.sheets('tab1')\n",
    "    wb.sheets['tab1'].api.Visible = True\n",
    "    template_tab.range('B3').value = current_file\n",
    "    template_tab.range('B5').value = today\n",
    "    template_tab.range('B7').value = first_date\n",
    "    template_tab.range('B9').value = last_date\n",
    "    template_tab.range('B11').value = total_exp\n",
    "    template_tab.range('B13').value = total_rev\n",
    "\n",
    "    # # format the cell values/types for the input cells\n",
    "    # template_tab.range('B5').number_format = \"mm/dd/yyyy\"\n",
    "    # template_tab.range('B7').number_format = \"mm/dd/yyyy\"\n",
    "    # template_tab.range('B9').number_format = \"mm/dd/yyyy\"\n",
    "    # template_tab.range('B11').number_format = \"$#,##0.00\"\n",
    "    # template_tab.range('B13').number_format = \"$#,##0.00\"\n",
    "\n",
    "    # # add the entire table to a tab called GL_Transactions\n",
    "    # gl_trans_tab = wb.sheets('GL_Transactions')\n",
    "    # gl_trans_tab.range('A1').options(index=False).value = df\n",
    "\n",
    "    # #MORE FORMATTING FUN - remove the comments to see the magic\n",
    "    # template_tab.range('B:B').autofit()\n",
    "    # template_tab.range('H:H').autofit()\n",
    "    # template_tab.range('K:K').autofit()\n",
    "\n",
    "    # gl_trans_tab.used_range.api.AutoFilter(Field:=1)\n",
    "\n",
    "    # #bold the text in the first row\n",
    "    # gl_trans_tab.range('1:1').api.Font.Bold = True\n",
    "\n",
    "    # #autofit the columns in gl_trans_tab\n",
    "    # gl_trans_tab.range('A:AD').autofit()\n",
    "\n",
    "    wb.save(destination)\n",
    "    wb.close()"
   ]
  }
 ],
 "metadata": {
  "kernelspec": {
   "display_name": "Python 3",
   "language": "python",
   "name": "python3"
  },
  "language_info": {
   "codemirror_mode": {
    "name": "ipython",
    "version": 3
   },
   "file_extension": ".py",
   "mimetype": "text/x-python",
   "name": "python",
   "nbconvert_exporter": "python",
   "pygments_lexer": "ipython3",
   "version": "3.12.5"
  }
 },
 "nbformat": 4,
 "nbformat_minor": 2
}
